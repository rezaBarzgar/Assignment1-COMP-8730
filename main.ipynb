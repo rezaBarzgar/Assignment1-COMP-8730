{
 "cells": [
  {
   "cell_type": "markdown",
   "id": "03bd0b5b",
   "metadata": {},
   "source": [
    "## Assignment 1 - COMP 8730\n",
    "#### Reza Barzegar - 110115742\n",
    "#### Hamed Waezi - 11011****\n",
    "##### 29-1-2023"
   ]
  },
  {
   "cell_type": "markdown",
   "source": [
    "#### Importing Libraries"
   ],
   "metadata": {
    "collapsed": false
   }
  },
  {
   "cell_type": "code",
   "execution_count": 1,
   "id": "7a3e43ab",
   "metadata": {},
   "outputs": [],
   "source": [
    "import json\n",
    "import time\n",
    "from multiprocessing import Pool\n",
    "from utils.utils import *\n",
    "import nltk\n",
    "from nltk.corpus import wordnet\n",
    "import pytrec_eval"
   ]
  },
  {
   "cell_type": "markdown",
   "source": [
    "#### downloading wordnet and loading Birkbeck's misspelled words"
   ],
   "metadata": {
    "collapsed": false
   }
  },
  {
   "cell_type": "code",
   "execution_count": 2,
   "outputs": [
    {
     "name": "stderr",
     "output_type": "stream",
     "text": [
      "[nltk_data] Downloading package wordnet to\n",
      "[nltk_data]     C:\\Users\\Reza\\AppData\\Roaming\\nltk_data...\n",
      "[nltk_data]   Package wordnet is already up-to-date!\n"
     ]
    }
   ],
   "source": [
    "wordnet_ = nltk.download(\"wordnet\")\n",
    "if not wordnet_:\n",
    "    print(\"unable to download Wordnet\")\n",
    "dictionary = list(wordnet.words(lang='eng'))\n",
    "tokens_pairs = read_data(\"data/missp.dat\")"
   ],
   "metadata": {
    "collapsed": false
   }
  },
  {
   "cell_type": "markdown",
   "source": [
    "#### Running without parallelism for 6 misspelled words"
   ],
   "metadata": {
    "collapsed": false
   }
  },
  {
   "cell_type": "code",
   "execution_count": 3,
   "outputs": [
    {
     "name": "stdout",
     "output_type": "stream",
     "text": [
      "/\\-\\//\\-\\//\\-\\//\\-\\//\\-\\//\\-\\//\\-\\//\\-\\//\\-\\//\\-\\/\n",
      "runtime: 153.76779532432556\n",
      "/\\-\\//\\-\\//\\-\\//\\-\\//\\-\\//\\-\\//\\-\\//\\-\\//\\-\\//\\-\\/\n"
     ]
    }
   ],
   "source": [
    "start = time.time()\n",
    "results = []\n",
    "for item in tokens_pairs[:6]:\n",
    "    results.append(most_similar_words(item, dictionary))\n",
    "\n",
    "print(\"/\\-\\/\"*10)\n",
    "print(f'runtime: {time.time() - start}')\n",
    "print(\"/\\-\\/\"*10)"
   ],
   "metadata": {
    "collapsed": false
   }
  },
  {
   "cell_type": "markdown",
   "source": [
    "#### Running with parallelism for 6 instances"
   ],
   "metadata": {
    "collapsed": false
   }
  },
  {
   "cell_type": "code",
   "execution_count": 4,
   "outputs": [
    {
     "name": "stdout",
     "output_type": "stream",
     "text": [
      "/\\-\\//\\-\\//\\-\\//\\-\\//\\-\\//\\-\\//\\-\\//\\-\\//\\-\\//\\-\\/\n",
      "runtime: 50.506991147994995\n",
      "/\\-\\//\\-\\//\\-\\//\\-\\//\\-\\//\\-\\//\\-\\//\\-\\//\\-\\//\\-\\/\n"
     ]
    }
   ],
   "source": [
    "start = time.time()\n",
    "with Pool(6) as pool:\n",
    "    args = list(zip(tokens_pairs[:6], [dictionary for i in range(len(tokens_pairs[:6]))]))\n",
    "    results = pool.starmap(most_similar_words, args)\n",
    "print(\"/\\-\\/\"*10)\n",
    "print(f'runtime: {time.time() - start}')\n",
    "print(\"/\\-\\/\"*10)"
   ],
   "metadata": {
    "collapsed": false
   }
  },
  {
   "cell_type": "markdown",
   "source": [
    "#### Main run with Evaluation"
   ],
   "metadata": {
    "collapsed": false
   }
  },
  {
   "cell_type": "code",
   "execution_count": null,
   "outputs": [],
   "source": [
    "start = time.time()\n",
    "with Pool(6) as pool:\n",
    "    args = list(zip(tokens_pairs, [dictionary for i in range(len(tokens_pairs))]))\n",
    "    results = pool.starmap(most_similar_words, args)\n",
    "print(\"/\\-\\/\"*10)\n",
    "print(f'runtime: {time.time() - start}')\n",
    "print(\"/\\-\\/\"*10)\n",
    "qrel = {}\n",
    "for i in range(len(tokens_pairs)):\n",
    "    qrel[f'{tokens_pairs[i]}'] = {\n",
    "        'success_at_1': 1,\n",
    "        'success_at_5': 1,\n",
    "        'success_at_10': 1\n",
    "    }\n",
    "result_data = {}\n",
    "for i in range(len(results)):\n",
    "    success_at_1, success_at_5, success_at_10 = success_at_k(results[i], tokens_pairs[i])\n",
    "    result_data[f'{tokens_pairs[i]}'] = {\n",
    "        'success_at_1': success_at_1,\n",
    "        'success_at_5': success_at_5,\n",
    "        'success_at_10': success_at_10\n",
    "    }\n",
    "\n",
    "print(json.dumps(result_data, indent=1))\n",
    "for measure in sorted(list(result_data[list(result_data.keys())[0]].keys())):\n",
    "    print(measure, 'average:', round(pytrec_eval.compute_aggregated_measure(\n",
    "              measure, [query_measures[measure] for query_measures in result_data.values()]), 2))"
   ],
   "metadata": {
    "collapsed": false,
    "pycharm": {
     "is_executing": true
    }
   }
  }
 ],
 "metadata": {
  "kernelspec": {
   "display_name": "Python 3 (ipykernel)",
   "language": "python",
   "name": "python3"
  },
  "language_info": {
   "codemirror_mode": {
    "name": "ipython",
    "version": 3
   },
   "file_extension": ".py",
   "mimetype": "text/x-python",
   "name": "python",
   "nbconvert_exporter": "python",
   "pygments_lexer": "ipython3",
   "version": "3.9.12"
  }
 },
 "nbformat": 4,
 "nbformat_minor": 5
}
